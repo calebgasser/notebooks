{
 "cells": [
  {
   "cell_type": "code",
   "execution_count": 1,
   "id": "initial_id",
   "metadata": {
    "collapsed": true,
    "ExecuteTime": {
     "end_time": "2024-01-19T22:20:25.626793300Z",
     "start_time": "2024-01-19T22:20:24.736197800Z"
    }
   },
   "outputs": [
    {
     "name": "stdout",
     "output_type": "stream",
     "text": [
      "[1 2 3 4]\n"
     ]
    }
   ],
   "source": [
    "import numpy as np\n",
    "\n",
    "a = np.array([1, 2, 3, 4])\n",
    "print(a)"
   ]
  },
  {
   "cell_type": "code",
   "outputs": [],
   "source": [
    "a = np.random.rand(1_000_000)\n",
    "b = np.random.rand(1_000_000)"
   ],
   "metadata": {
    "collapsed": false,
    "ExecuteTime": {
     "end_time": "2024-01-19T22:21:07.007970Z",
     "start_time": "2024-01-19T22:21:06.999895700Z"
    }
   },
   "id": "165d94c41a618af6",
   "execution_count": 2
  },
  {
   "cell_type": "code",
   "outputs": [
    {
     "data": {
      "text/plain": "250173.9171355766"
     },
     "metadata": {},
     "output_type": "display_data"
    },
    {
     "name": "stdout",
     "output_type": "stream",
     "text": [
      "CPU times: total: 0 ns\n",
      "Wall time: 2 ms\n"
     ]
    }
   ],
   "source": [
    "%%time\n",
    "c = np.dot(a, b)\n",
    "display(c)"
   ],
   "metadata": {
    "collapsed": false,
    "ExecuteTime": {
     "end_time": "2024-01-19T22:22:46.167082Z",
     "start_time": "2024-01-19T22:22:46.156188500Z"
    }
   },
   "id": "1aa9b9d233920779",
   "execution_count": 5
  },
  {
   "cell_type": "code",
   "outputs": [
    {
     "data": {
      "text/plain": "250173.91713558324"
     },
     "metadata": {},
     "output_type": "display_data"
    },
    {
     "name": "stdout",
     "output_type": "stream",
     "text": [
      "CPU times: total: 15.6 ms\n",
      "Wall time: 148 ms\n"
     ]
    }
   ],
   "source": [
    "%%time\n",
    "c = 0\n",
    "for i in range(1_000_000):\n",
    "    c +=  a[i] * b[i]\n",
    "display(c)"
   ],
   "metadata": {
    "collapsed": false,
    "ExecuteTime": {
     "end_time": "2024-01-19T22:22:47.231792700Z",
     "start_time": "2024-01-19T22:22:47.162667900Z"
    }
   },
   "id": "7586a4e5b05dc80c",
   "execution_count": 6
  },
  {
   "cell_type": "code",
   "outputs": [
    {
     "data": {
      "text/plain": "(2, 3, 3, 3)"
     },
     "execution_count": 25,
     "metadata": {},
     "output_type": "execute_result"
    }
   ],
   "source": [
    "arr = np.array([\n",
    "    [\n",
    "        [[1, 2, 3], [1, 2, 3], [1, 2, 3]],\n",
    "        [[1, 2, 3], [1, 2, 3], [1, 2, 3]],\n",
    "        [[1, 2, 3], [1, 2, 3], [4, 5, 6]]\n",
    "    ],\n",
    "    [\n",
    "        [[1, 2, 3], [1, 2, 3], [1, 2, 3]],\n",
    "        [[1, 2, 3], [1, 2, 3], [1, 2, 3]],\n",
    "        [[1, 2, 3], [1, 2, 3], [4, 5, 6]]\n",
    "    ]\n",
    "])\n",
    "arr.shape"
   ],
   "metadata": {
    "collapsed": false,
    "ExecuteTime": {
     "end_time": "2024-01-24T16:15:30.621741400Z",
     "start_time": "2024-01-24T16:15:30.610046Z"
    }
   },
   "id": "e9f546714c141048",
   "execution_count": 25
  },
  {
   "cell_type": "code",
   "outputs": [
    {
     "data": {
      "text/plain": "array([[1, 1],\n       [2, 2],\n       [3, 3],\n       [1, 1],\n       [2, 2],\n       [3, 3],\n       [1, 1],\n       [2, 2],\n       [3, 3],\n       [1, 1],\n       [2, 2],\n       [3, 3],\n       [1, 1],\n       [2, 2],\n       [3, 3],\n       [1, 1],\n       [2, 2],\n       [3, 3],\n       [1, 1],\n       [2, 2],\n       [3, 3],\n       [1, 1],\n       [2, 2],\n       [3, 3],\n       [4, 4],\n       [5, 5],\n       [6, 6]])"
     },
     "execution_count": 30,
     "metadata": {},
     "output_type": "execute_result"
    }
   ],
   "source": [
    "arr_flat = arr.reshape(arr.shape[0], -1).T\n",
    "arr_flat"
   ],
   "metadata": {
    "collapsed": false,
    "ExecuteTime": {
     "end_time": "2024-01-24T16:17:07.897019Z",
     "start_time": "2024-01-24T16:17:07.888774600Z"
    }
   },
   "id": "2b2beb894c654d8c",
   "execution_count": 30
  },
  {
   "cell_type": "code",
   "outputs": [
    {
     "data": {
      "text/plain": "array([[0.16666667, 0.16666667],\n       [0.33333333, 0.33333333],\n       [0.5       , 0.5       ],\n       [0.16666667, 0.16666667],\n       [0.33333333, 0.33333333],\n       [0.5       , 0.5       ],\n       [0.16666667, 0.16666667],\n       [0.33333333, 0.33333333],\n       [0.5       , 0.5       ],\n       [0.16666667, 0.16666667],\n       [0.33333333, 0.33333333],\n       [0.5       , 0.5       ],\n       [0.16666667, 0.16666667],\n       [0.33333333, 0.33333333],\n       [0.5       , 0.5       ],\n       [0.16666667, 0.16666667],\n       [0.33333333, 0.33333333],\n       [0.5       , 0.5       ],\n       [0.16666667, 0.16666667],\n       [0.33333333, 0.33333333],\n       [0.5       , 0.5       ],\n       [0.16666667, 0.16666667],\n       [0.33333333, 0.33333333],\n       [0.5       , 0.5       ],\n       [0.66666667, 0.66666667],\n       [0.83333333, 0.83333333],\n       [1.        , 1.        ]])"
     },
     "execution_count": 31,
     "metadata": {},
     "output_type": "execute_result"
    }
   ],
   "source": [
    "arr_flat / 6"
   ],
   "metadata": {
    "collapsed": false,
    "ExecuteTime": {
     "end_time": "2024-01-24T16:17:08.365307500Z",
     "start_time": "2024-01-24T16:17:08.362353300Z"
    }
   },
   "id": "4b9fa8436a51b91b",
   "execution_count": 31
  },
  {
   "cell_type": "code",
   "outputs": [
    {
     "data": {
      "text/plain": "0.6931471805599453"
     },
     "execution_count": 32,
     "metadata": {},
     "output_type": "execute_result"
    }
   ],
   "source": [
    "-(0 * np.log(0.5) + (1 - 0) * np.log(1 - 0.5))"
   ],
   "metadata": {
    "collapsed": false,
    "ExecuteTime": {
     "end_time": "2024-01-24T19:11:32.105039200Z",
     "start_time": "2024-01-24T19:11:32.097423500Z"
    }
   },
   "id": "c2d0cfa43619bccc",
   "execution_count": 32
  },
  {
   "cell_type": "code",
   "outputs": [],
   "source": [],
   "metadata": {
    "collapsed": false
   },
   "id": "8432efd99adfa901"
  }
 ],
 "metadata": {
  "kernelspec": {
   "display_name": "Python 3",
   "language": "python",
   "name": "python3"
  },
  "language_info": {
   "codemirror_mode": {
    "name": "ipython",
    "version": 2
   },
   "file_extension": ".py",
   "mimetype": "text/x-python",
   "name": "python",
   "nbconvert_exporter": "python",
   "pygments_lexer": "ipython2",
   "version": "2.7.6"
  }
 },
 "nbformat": 4,
 "nbformat_minor": 5
}
