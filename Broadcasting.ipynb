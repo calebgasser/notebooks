{
 "cells": [
  {
   "cell_type": "code",
   "execution_count": 1,
   "id": "initial_id",
   "metadata": {
    "collapsed": true,
    "ExecuteTime": {
     "end_time": "2024-01-23T17:13:06.228657100Z",
     "start_time": "2024-01-23T17:13:06.189051800Z"
    }
   },
   "outputs": [
    {
     "data": {
      "text/plain": "array([[ 56. ,   0. ,   4.4,  68. ],\n       [  1.2, 104. ,  52. ,   8. ],\n       [  1.8, 135. ,  99. ,   0.9]])"
     },
     "metadata": {},
     "output_type": "display_data"
    }
   ],
   "source": [
    "import numpy as np\n",
    "A = np.array([[56.0, 0.0, 4.4, 68.0],\n",
    "              [1.2, 104.0, 52.0, 8.0],\n",
    "              [1.8, 135.0, 99.0, 0.9]])\n",
    "display(A)"
   ]
  },
  {
   "cell_type": "code",
   "outputs": [
    {
     "data": {
      "text/plain": "array([ 59. , 239. , 155.4,  76.9])"
     },
     "metadata": {},
     "output_type": "display_data"
    }
   ],
   "source": [
    "cal = A.sum(axis=0)\n",
    "display(cal)"
   ],
   "metadata": {
    "collapsed": false,
    "ExecuteTime": {
     "end_time": "2024-01-23T17:13:13.467420700Z",
     "start_time": "2024-01-23T17:13:13.463896500Z"
    }
   },
   "id": "515c0380789a2b85",
   "execution_count": 2
  },
  {
   "cell_type": "code",
   "outputs": [
    {
     "data": {
      "text/plain": "array([[94.91525424,  0.        ,  2.83140283, 88.42652796],\n       [ 2.03389831, 43.51464435, 33.46203346, 10.40312094],\n       [ 3.05084746, 56.48535565, 63.70656371,  1.17035111]])"
     },
     "metadata": {},
     "output_type": "display_data"
    }
   ],
   "source": [
    "percent = 100 * A / cal\n",
    "display(percent)"
   ],
   "metadata": {
    "collapsed": false,
    "ExecuteTime": {
     "end_time": "2024-01-23T17:13:20.439466600Z",
     "start_time": "2024-01-23T17:13:20.432659500Z"
    }
   },
   "id": "92920aecb785aaae",
   "execution_count": 3
  }
 ],
 "metadata": {
  "kernelspec": {
   "display_name": "Python 3",
   "language": "python",
   "name": "python3"
  },
  "language_info": {
   "codemirror_mode": {
    "name": "ipython",
    "version": 2
   },
   "file_extension": ".py",
   "mimetype": "text/x-python",
   "name": "python",
   "nbconvert_exporter": "python",
   "pygments_lexer": "ipython2",
   "version": "2.7.6"
  }
 },
 "nbformat": 4,
 "nbformat_minor": 5
}
