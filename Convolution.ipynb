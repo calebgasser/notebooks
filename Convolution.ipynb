{
 "cells": [
  {
   "cell_type": "code",
   "execution_count": 2,
   "id": "initial_id",
   "metadata": {
    "collapsed": true,
    "ExecuteTime": {
     "end_time": "2024-01-15T19:38:23.846086200Z",
     "start_time": "2024-01-15T19:38:23.843198600Z"
    }
   },
   "outputs": [],
   "source": [
    "import numpy as np"
   ]
  },
  {
   "cell_type": "code",
   "outputs": [
    {
     "data": {
      "text/plain": "array([-0.25, -0.5 , -0.51, -0.52, -0.53, -0.54, -0.55,  1.44,  1.68])"
     },
     "execution_count": 5,
     "metadata": {},
     "output_type": "execute_result"
    }
   ],
   "source": [
    "np.convolve([1,2,3,4,5,6,7], [-0.25, 0.00,0.24])"
   ],
   "metadata": {
    "collapsed": false,
    "ExecuteTime": {
     "end_time": "2024-01-15T19:43:29.210937700Z",
     "start_time": "2024-01-15T19:43:29.198835Z"
    }
   },
   "id": "584a241261417695",
   "execution_count": 5
  },
  {
   "cell_type": "code",
   "outputs": [],
   "source": [
    "arr1 = np.random.random(10_000)\n",
    "arr2 = np.random.random(10_000)"
   ],
   "metadata": {
    "collapsed": false,
    "ExecuteTime": {
     "end_time": "2024-01-15T19:47:37.557771900Z",
     "start_time": "2024-01-15T19:47:37.553751800Z"
    }
   },
   "id": "e2093453bc274c7c",
   "execution_count": 6
  },
  {
   "cell_type": "code",
   "outputs": [
    {
     "name": "stdout",
     "output_type": "stream",
     "text": [
      "10.6 ms ± 46.5 µs per loop (mean ± std. dev. of 7 runs, 100 loops each)\n"
     ]
    }
   ],
   "source": [
    "%%timeit\n",
    "np.convolve(arr1, arr2)"
   ],
   "metadata": {
    "collapsed": false,
    "ExecuteTime": {
     "end_time": "2024-01-15T19:47:56.168652Z",
     "start_time": "2024-01-15T19:47:47.529805700Z"
    }
   },
   "id": "f6b207498025a21f",
   "execution_count": 7
  },
  {
   "cell_type": "code",
   "outputs": [],
   "source": [
    "import scipy.signal"
   ],
   "metadata": {
    "collapsed": false,
    "ExecuteTime": {
     "end_time": "2024-01-15T19:48:33.303458800Z",
     "start_time": "2024-01-15T19:48:31.800981Z"
    }
   },
   "id": "ef154ab51f4ae98",
   "execution_count": 8
  },
  {
   "cell_type": "code",
   "outputs": [
    {
     "name": "stdout",
     "output_type": "stream",
     "text": [
      "245 µs ± 7.17 µs per loop (mean ± std. dev. of 7 runs, 1,000 loops each)\n"
     ]
    }
   ],
   "source": [
    "%%timeit\n",
    "scipy.signal.fftconvolve(arr1, arr2)"
   ],
   "metadata": {
    "collapsed": false,
    "ExecuteTime": {
     "end_time": "2024-01-15T19:48:52.813977400Z",
     "start_time": "2024-01-15T19:48:50.818591500Z"
    }
   },
   "id": "3dd35df70c2b737",
   "execution_count": 9
  },
  {
   "cell_type": "code",
   "outputs": [
    {
     "data": {
      "text/plain": "array([[[9.88131292e-324, 6.95254034e-310],\n        [6.95254034e-310, 1.47636633e-144]],\n\n       [[1.23486357e-311, 1.23486357e-311],\n        [1.02457756e-063, 1.23446288e-311]]])"
     },
     "execution_count": 14,
     "metadata": {},
     "output_type": "execute_result"
    }
   ],
   "source": [
    "np.empty([2,2,2])"
   ],
   "metadata": {
    "collapsed": false,
    "ExecuteTime": {
     "end_time": "2024-01-15T20:04:25.252811800Z",
     "start_time": "2024-01-15T20:04:25.242681400Z"
    }
   },
   "id": "92c0c3441c15ee95",
   "execution_count": 14
  },
  {
   "cell_type": "code",
   "outputs": [],
   "source": [],
   "metadata": {
    "collapsed": false
   },
   "id": "53b5d27a53061062"
  }
 ],
 "metadata": {
  "kernelspec": {
   "display_name": "Python 3",
   "language": "python",
   "name": "python3"
  },
  "language_info": {
   "codemirror_mode": {
    "name": "ipython",
    "version": 2
   },
   "file_extension": ".py",
   "mimetype": "text/x-python",
   "name": "python",
   "nbconvert_exporter": "python",
   "pygments_lexer": "ipython2",
   "version": "2.7.6"
  }
 },
 "nbformat": 4,
 "nbformat_minor": 5
}
