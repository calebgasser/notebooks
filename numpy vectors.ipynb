{
 "cells": [
  {
   "cell_type": "code",
   "execution_count": 1,
   "id": "initial_id",
   "metadata": {
    "collapsed": true,
    "ExecuteTime": {
     "end_time": "2024-01-23T17:24:46.149702400Z",
     "start_time": "2024-01-23T17:24:46.089583500Z"
    }
   },
   "outputs": [],
   "source": [
    "import numpy as np\n",
    "a = np.random.randn(5)"
   ]
  },
  {
   "cell_type": "code",
   "outputs": [
    {
     "data": {
      "text/plain": "array([-0.07046691,  0.98033854, -0.787017  , -0.77132252,  3.10192434])"
     },
     "metadata": {},
     "output_type": "display_data"
    }
   ],
   "source": [
    "display(a)"
   ],
   "metadata": {
    "collapsed": false,
    "ExecuteTime": {
     "end_time": "2024-01-23T17:24:51.431522700Z",
     "start_time": "2024-01-23T17:24:51.423382600Z"
    }
   },
   "id": "c8d64581a8bf0708",
   "execution_count": 2
  },
  {
   "cell_type": "code",
   "outputs": [
    {
     "name": "stdout",
     "output_type": "stream",
     "text": [
      "(5,)\n"
     ]
    }
   ],
   "source": [
    "print(a.shape)"
   ],
   "metadata": {
    "collapsed": false,
    "ExecuteTime": {
     "end_time": "2024-01-23T17:24:54.974259700Z",
     "start_time": "2024-01-23T17:24:54.964005400Z"
    }
   },
   "id": "913a822664369d27",
   "execution_count": 3
  },
  {
   "cell_type": "code",
   "outputs": [
    {
     "name": "stdout",
     "output_type": "stream",
     "text": [
      "[-0.07046691  0.98033854 -0.787017   -0.77132252  3.10192434]\n"
     ]
    }
   ],
   "source": [
    "print(a.T)"
   ],
   "metadata": {
    "collapsed": false,
    "ExecuteTime": {
     "end_time": "2024-01-23T17:25:03.717971100Z",
     "start_time": "2024-01-23T17:25:03.706267Z"
    }
   },
   "id": "71df7dc7b8e05d7f",
   "execution_count": 5
  },
  {
   "cell_type": "code",
   "outputs": [
    {
     "name": "stdout",
     "output_type": "stream",
     "text": [
      "11.802298039369596\n"
     ]
    }
   ],
   "source": [
    "print(np.dot(a,a.T))"
   ],
   "metadata": {
    "collapsed": false,
    "ExecuteTime": {
     "end_time": "2024-01-23T17:25:11.998226Z",
     "start_time": "2024-01-23T17:25:11.988674Z"
    }
   },
   "id": "8fd67b9580ce996d",
   "execution_count": 6
  },
  {
   "cell_type": "code",
   "outputs": [],
   "source": [
    "a = np.random.randn(5,1)"
   ],
   "metadata": {
    "collapsed": false,
    "ExecuteTime": {
     "end_time": "2024-01-23T17:25:41.790199600Z",
     "start_time": "2024-01-23T17:25:41.783185800Z"
    }
   },
   "id": "6dd113051caece3a",
   "execution_count": 8
  },
  {
   "cell_type": "code",
   "outputs": [
    {
     "data": {
      "text/plain": "array([[0.9288838 ],\n       [0.60207963],\n       [0.3150397 ],\n       [0.72657763],\n       [1.66036213]])"
     },
     "metadata": {},
     "output_type": "display_data"
    }
   ],
   "source": [
    "display(a)"
   ],
   "metadata": {
    "collapsed": false,
    "ExecuteTime": {
     "end_time": "2024-01-23T17:25:45.452988500Z",
     "start_time": "2024-01-23T17:25:45.445230100Z"
    }
   },
   "id": "93137c3b16fea656",
   "execution_count": 9
  },
  {
   "cell_type": "code",
   "outputs": [
    {
     "data": {
      "text/plain": "array([[0.9288838 , 0.60207963, 0.3150397 , 0.72657763, 1.66036213]])"
     },
     "metadata": {},
     "output_type": "display_data"
    }
   ],
   "source": [
    "display(a.T)"
   ],
   "metadata": {
    "collapsed": false,
    "ExecuteTime": {
     "end_time": "2024-01-23T17:25:53.236329100Z",
     "start_time": "2024-01-23T17:25:53.228694600Z"
    }
   },
   "id": "93ab83567c011c4d",
   "execution_count": 10
  },
  {
   "cell_type": "code",
   "outputs": [
    {
     "data": {
      "text/plain": "array([[0.86282511, 0.55926202, 0.29263527, 0.67490619, 1.54228348],\n       [0.55926202, 0.36249989, 0.18967899, 0.43745759, 0.99967022],\n       [0.29263527, 0.18967899, 0.09925001, 0.2289008 , 0.52307998],\n       [0.67490619, 0.43745759, 0.2289008 , 0.52791505, 1.20638198],\n       [1.54228348, 0.99967022, 0.52307998, 1.20638198, 2.7568024 ]])"
     },
     "metadata": {},
     "output_type": "display_data"
    }
   ],
   "source": [
    "display(np.dot(a, a.T))"
   ],
   "metadata": {
    "collapsed": false,
    "ExecuteTime": {
     "end_time": "2024-01-23T17:26:27.668147200Z",
     "start_time": "2024-01-23T17:26:27.662970500Z"
    }
   },
   "id": "77277044725556c8",
   "execution_count": 12
  },
  {
   "cell_type": "code",
   "outputs": [
    {
     "data": {
      "text/plain": "array([[[1],\n        [2]],\n\n       [[3],\n        [4]]])"
     },
     "execution_count": 13,
     "metadata": {},
     "output_type": "execute_result"
    }
   ],
   "source": [
    "x=np.array([[[1],[2]],[[3],[4]]])\n",
    "x"
   ],
   "metadata": {
    "collapsed": false,
    "ExecuteTime": {
     "end_time": "2024-01-23T18:16:38.164276100Z",
     "start_time": "2024-01-23T18:16:38.157770Z"
    }
   },
   "id": "2d18349ea0eff904",
   "execution_count": 13
  },
  {
   "cell_type": "code",
   "outputs": [
    {
     "data": {
      "text/plain": "array([[ 0.22030509, -0.36506129,  2.13064187, -1.09757474],\n       [-2.19604048,  1.96885314,  1.19995376, -0.44386819],\n       [-0.30770202, -1.24618628,  2.86698585, -0.42444088]])"
     },
     "execution_count": 24,
     "metadata": {},
     "output_type": "execute_result"
    }
   ],
   "source": [
    "a = np.random.randn(3,4) # a.shape=(3,3)a.shape=(3,3)\n",
    "\n",
    "b = np.random.randn(1, 4) # b.shape=(2,1)b.shape=(2,1)\n",
    "\n",
    "c = a+b\n",
    "c"
   ],
   "metadata": {
    "collapsed": false,
    "ExecuteTime": {
     "end_time": "2024-01-24T19:13:10.568476Z",
     "start_time": "2024-01-24T19:13:10.561444700Z"
    }
   },
   "id": "996449de3f7dffd9",
   "execution_count": 24
  },
  {
   "cell_type": "code",
   "outputs": [
    {
     "ename": "ValueError",
     "evalue": "operands could not be broadcast together with shapes (4,3) (3,2) ",
     "output_type": "error",
     "traceback": [
      "\u001B[1;31m---------------------------------------------------------------------------\u001B[0m",
      "\u001B[1;31mValueError\u001B[0m                                Traceback (most recent call last)",
      "Cell \u001B[1;32mIn[17], line 5\u001B[0m\n\u001B[0;32m      1\u001B[0m a \u001B[38;5;241m=\u001B[39m np\u001B[38;5;241m.\u001B[39mrandom\u001B[38;5;241m.\u001B[39mrandn(\u001B[38;5;241m4\u001B[39m,\u001B[38;5;241m3\u001B[39m) \u001B[38;5;66;03m# a.shape=(4,3)a.shape=(4,3)\u001B[39;00m\n\u001B[0;32m      3\u001B[0m b \u001B[38;5;241m=\u001B[39m np\u001B[38;5;241m.\u001B[39mrandom\u001B[38;5;241m.\u001B[39mrandn(\u001B[38;5;241m3\u001B[39m,\u001B[38;5;241m2\u001B[39m) \u001B[38;5;66;03m# b.shape=(3,2)b.shape=(3,2)\u001B[39;00m\n\u001B[1;32m----> 5\u001B[0m c \u001B[38;5;241m=\u001B[39m \u001B[43ma\u001B[49m\u001B[43m \u001B[49m\u001B[38;5;241;43m*\u001B[39;49m\u001B[43m \u001B[49m\u001B[43mb\u001B[49m \n",
      "\u001B[1;31mValueError\u001B[0m: operands could not be broadcast together with shapes (4,3) (3,2) "
     ]
    }
   ],
   "source": [
    "a = np.random.randn(4,3) # a.shape=(4,3)a.shape=(4,3)\n",
    "\n",
    "b = np.random.randn(3,2) # b.shape=(3,2)b.shape=(3,2)\n",
    "\n",
    "c = a * b "
   ],
   "metadata": {
    "collapsed": false,
    "ExecuteTime": {
     "end_time": "2024-01-23T18:18:28.517184300Z",
     "start_time": "2024-01-23T18:18:28.512978700Z"
    }
   },
   "id": "68c35ef024576986",
   "execution_count": 17
  },
  {
   "cell_type": "code",
   "outputs": [
    {
     "data": {
      "text/plain": "(12288, 45)"
     },
     "execution_count": 19,
     "metadata": {},
     "output_type": "execute_result"
    }
   ],
   "source": [
    "a=np.random.randn(12288,150) \n",
    "\n",
    "# a.shape=(12288,150)a.shape=(12288,150)\n",
    "\n",
    "b=np.random.randn(150,45) \n",
    "\n",
    "# b.shape=(150,45)b.shape=(150,45)\n",
    "\n",
    "c=np.dot(a,b)\n",
    "c.shape"
   ],
   "metadata": {
    "collapsed": false,
    "ExecuteTime": {
     "end_time": "2024-01-23T18:19:46.560486100Z",
     "start_time": "2024-01-23T18:19:46.535151200Z"
    }
   },
   "id": "9c29b116163caa76",
   "execution_count": 19
  },
  {
   "cell_type": "code",
   "outputs": [
    {
     "data": {
      "text/plain": "array([[3, 3],\n       [4, 2]])"
     },
     "execution_count": 22,
     "metadata": {},
     "output_type": "execute_result"
    }
   ],
   "source": [
    "a=np.array([[1, 1], [1, -1]])\n",
    "\n",
    "b=np.array([[2],[3]])\n",
    "\n",
    "c=a+b\n",
    "c"
   ],
   "metadata": {
    "collapsed": false,
    "ExecuteTime": {
     "end_time": "2024-01-23T18:26:36.895000100Z",
     "start_time": "2024-01-23T18:26:36.888683400Z"
    }
   },
   "id": "c4f4f157a9ea7754",
   "execution_count": 22
  },
  {
   "cell_type": "code",
   "outputs": [
    {
     "data": {
      "text/plain": "array([[4, 1],\n       [1, 9]])"
     },
     "execution_count": 25,
     "metadata": {},
     "output_type": "execute_result"
    }
   ],
   "source": [
    "a = np.array([[2, 1], [1, 3]])\n",
    "a * a"
   ],
   "metadata": {
    "collapsed": false,
    "ExecuteTime": {
     "end_time": "2024-01-24T19:14:29.698100Z",
     "start_time": "2024-01-24T19:14:29.686925900Z"
    }
   },
   "id": "561dd0531831530b",
   "execution_count": 25
  },
  {
   "cell_type": "code",
   "outputs": [
    {
     "data": {
      "text/plain": "array([[-0.09127331,  0.02406025, -0.22842519],\n       [-0.08446877,  0.16787161, -0.04561861],\n       [ 2.01290038, -1.1532467 ,  0.49695841]])"
     },
     "execution_count": 27,
     "metadata": {},
     "output_type": "execute_result"
    }
   ],
   "source": [
    "a = np.random.randn(3,3)\n",
    "b = np.random.randn(3,1)\n",
    "c = a * b\n",
    "c"
   ],
   "metadata": {
    "collapsed": false,
    "ExecuteTime": {
     "end_time": "2024-01-24T19:16:27.155826500Z",
     "start_time": "2024-01-24T19:16:27.147851200Z"
    }
   },
   "id": "c4e62ff1cc8c0fab",
   "execution_count": 27
  },
  {
   "cell_type": "code",
   "outputs": [],
   "source": [],
   "metadata": {
    "collapsed": false
   },
   "id": "392210560b7ff474"
  }
 ],
 "metadata": {
  "kernelspec": {
   "display_name": "Python 3",
   "language": "python",
   "name": "python3"
  },
  "language_info": {
   "codemirror_mode": {
    "name": "ipython",
    "version": 2
   },
   "file_extension": ".py",
   "mimetype": "text/x-python",
   "name": "python",
   "nbconvert_exporter": "python",
   "pygments_lexer": "ipython2",
   "version": "2.7.6"
  }
 },
 "nbformat": 4,
 "nbformat_minor": 5
}
